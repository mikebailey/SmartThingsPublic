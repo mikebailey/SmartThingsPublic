{
  "nbformat": 4,
  "nbformat_minor": 0,
  "metadata": {
    "colab": {
      "provenance": [],
      "authorship_tag": "ABX9TyMn0RGPspFpaKikEWQa5sxY",
      "include_colab_link": true
    },
    "kernelspec": {
      "name": "python3",
      "display_name": "Python 3"
    },
    "language_info": {
      "name": "python"
    }
  },
  "cells": [
    {
      "cell_type": "markdown",
      "metadata": {
        "id": "view-in-github",
        "colab_type": "text"
      },
      "source": [
        "<a href=\"https://colab.research.google.com/github/mikebailey/SmartThingsPublic/blob/master/Reroll_Simulation.ipynb\" target=\"_parent\"><img src=\"https://colab.research.google.com/assets/colab-badge.svg\" alt=\"Open In Colab\"/></a>"
      ]
    },
    {
      "cell_type": "code",
      "execution_count": null,
      "metadata": {
        "id": "mS8JamrhVjyB"
      },
      "outputs": [],
      "source": [
        "import random\n",
        "# create data\n",
        "data = []\n",
        "\n",
        "# loop over decision rule for player 1\n",
        "for i in range(1, 101):\n",
        "    # staring params\n",
        "    sims = 1000000\n",
        "    onewins = 0\n",
        "    twowins = 0\n",
        "    n = 0\n",
        "\n",
        "    while n<sims:\n",
        "        # player 1 and 2 gets a random integer 1-100 donated a and b\n",
        "        a = random.randint(1, 100)\n",
        "        b = random.randint(1, 100)\n",
        "        # player 2 will reroll if their number is < 51\n",
        "        if b < 51:\n",
        "            b = random.randint(1, 100)\n",
        "        # player 1 will reroll if their number is < i\n",
        "        if a < i:\n",
        "            a = random.randint(1, 100)\n",
        "        # count winners\n",
        "        if a < b:\n",
        "            twowins += 1\n",
        "            n += 1\n",
        "        if b < a:\n",
        "            onewins += 1\n",
        "            n += 1\n",
        "        else:\n",
        "            # tie, do nothing and reroll\n",
        "            n == n\n",
        "    data.append(onewins / sims)\n",
        "\n",
        "#print(\"Player 1 wins \", onewins, \" number of times, \", (onewins / sims) * 100, \"%\")\n",
        "#print(\"Player 2 wins \", twowins, \" number of times, \", (twowins / sims) * 100, \"%\")"
      ]
    },
    {
      "cell_type": "code",
      "source": [
        "from matplotlib import pyplot as plt\n",
        "plt.scatter(x=range(1, 101), y=data)\n",
        "plt.xlabel(\"Player 1 Cutoff Rule\")\n",
        "plt.ylabel(\"Player 1 win percentage (1M simulations)\")\n",
        "plt.show"
      ],
      "metadata": {
        "id": "4ZHhl4ObVuYG"
      },
      "execution_count": null,
      "outputs": []
    }
  ]
}